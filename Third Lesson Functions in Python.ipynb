{
 "cells": [
  {
   "cell_type": "code",
   "execution_count": 1,
   "metadata": {},
   "outputs": [
    {
     "name": "stdout",
     "output_type": "stream",
     "text": [
      "I am not concerned with funtions\n"
     ]
    }
   ],
   "source": [
    "#this is my first use of function\n",
    "#functions are collection of instructions\n",
    "#functions can be accessed only when they are called\n",
    "#functions can be called many times inside the code\n",
    "def santoshiusesfunction():\n",
    "    print(\"Yes I can use functions\")\n",
    "print(\"I am not concerned with funtions\")"
   ]
  },
  {
   "cell_type": "code",
   "execution_count": 3,
   "metadata": {},
   "outputs": [
    {
     "name": "stdout",
     "output_type": "stream",
     "text": [
      "Yes I can use functions\n"
     ]
    }
   ],
   "source": [
    "santoshiusesfunction()"
   ]
  },
  {
   "cell_type": "code",
   "execution_count": 8,
   "metadata": {},
   "outputs": [
    {
     "name": "stdout",
     "output_type": "stream",
     "text": [
      "1900\n"
     ]
    }
   ],
   "source": [
    "#functions can be used for mapping\n",
    "#for mapping, define function and pass inputs into it\n",
    "#return how input should be used / calculated\n",
    "def functionmap(x):\n",
    "    return 100*x\n",
    "a = functionmap(19)\n",
    "print(a)"
   ]
  },
  {
   "cell_type": "code",
   "execution_count": 10,
   "metadata": {},
   "outputs": [
    {
     "name": "stdout",
     "output_type": "stream",
     "text": [
      "2.0\n"
     ]
    }
   ],
   "source": [
    "def divfunc(x, y):\n",
    "    return x / y\n",
    "ans = divfunc(10, 5)\n",
    "print(ans)"
   ]
  },
  {
   "cell_type": "code",
   "execution_count": 11,
   "metadata": {},
   "outputs": [
    {
     "name": "stdout",
     "output_type": "stream",
     "text": [
      "10 2\n",
      "I am improving\n",
      "5.0\n"
     ]
    }
   ],
   "source": [
    "#using, printing string / giving input to function and returning output in single function\n",
    "def funcall(x, y):\n",
    "    print(x, y)\n",
    "    print(\"I am improving\")\n",
    "    return x / y\n",
    "ans = funcall(10, 2)\n",
    "print(ans)\n",
    "#remember here \"return\" assigns value to \"ans\" and answer will be printed only if \"print\" statement is used"
   ]
  },
  {
   "cell_type": "code",
   "execution_count": 20,
   "metadata": {},
   "outputs": [],
   "source": [
    "def randomfunc(test):\n",
    "    print(test)\n",
    "    print(\"It is ok to take some argument, and there is no need to declare a variable to call function, you can directly access it since there is no return command\")"
   ]
  },
  {
   "cell_type": "code",
   "execution_count": 21,
   "metadata": {},
   "outputs": [
    {
     "name": "stdout",
     "output_type": "stream",
     "text": [
      "4\n",
      "It is ok to take some argument, and there is no need to declare a variable to call function, you can directly access it since there is no return command\n"
     ]
    }
   ],
   "source": [
    "randomfunc(4)    "
   ]
  }
 ],
 "metadata": {
  "kernelspec": {
   "display_name": "Python 3",
   "language": "python",
   "name": "python3"
  },
  "language_info": {
   "codemirror_mode": {
    "name": "ipython",
    "version": 3
   },
   "file_extension": ".py",
   "mimetype": "text/x-python",
   "name": "python",
   "nbconvert_exporter": "python",
   "pygments_lexer": "ipython3",
   "version": "3.8.3"
  }
 },
 "nbformat": 4,
 "nbformat_minor": 4
}
