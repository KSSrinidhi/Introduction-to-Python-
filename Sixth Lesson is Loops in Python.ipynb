{
 "cells": [
  {
   "cell_type": "code",
   "execution_count": null,
   "metadata": {},
   "outputs": [],
   "source": [
    "#\"while\" loop is initialized by declaring the first value before \"while\" loop & the last/last+1 will be declared along with the loop\n",
    "#this is similar to \"for\" loop\n",
    "#advantage is, when final index / limit is unknown, it is useful\n",
    "a = list(range(1,11))\n",
    "total = 0\n",
    "j = 1\n",
    "while j < 11:\n",
    "    total += j\n",
    "    j += 1 \n",
    "print(total)"
   ]
  },
  {
   "cell_type": "code",
   "execution_count": null,
   "metadata": {},
   "outputs": [],
   "source": [
    "li = [6, 5, 4, 3, 2, 1, 0, -1, -2, -3, -4,-5]\n",
    "\n",
    "total1 = 0\n",
    "i = 0\n",
    "while li[i] > 0:\n",
    "    total1 += li[i]\n",
    "    i += 1"
   ]
  },
  {
   "cell_type": "code",
   "execution_count": null,
   "metadata": {},
   "outputs": [],
   "source": [
    "print(total1)"
   ]
  },
  {
   "cell_type": "code",
   "execution_count": null,
   "metadata": {},
   "outputs": [],
   "source": [
    "#\"len\" is used to define length of a list\n",
    "li = [6,5 ,4 ,3 ,2 ,1]\n",
    "\n",
    "total1 = 0\n",
    "i = 0\n",
    "while i < len(li) and li[i] > 0:\n",
    "    total1 += li[i]\n",
    "    i += 1\n",
    "print(total1)"
   ]
  },
  {
   "cell_type": "code",
   "execution_count": null,
   "metadata": {},
   "outputs": [],
   "source": [
    "#\"break\" is used to come out of loop and break the loop\n",
    "a = [7, 2, 1, -2, -3]\n",
    "total = 0\n",
    "for e in a:\n",
    "    if e <= 0:\n",
    "        break\n",
    "    total = total + e\n",
    "print(total)"
   ]
  },
  {
   "cell_type": "code",
   "execution_count": null,
   "metadata": {},
   "outputs": [],
   "source": [
    "li = [6, 5, 4, 3, 2, 1, 0, -1, -2, -3, -4,-5]\n",
    "\n",
    "total1 = 0\n",
    "i = 0\n",
    "while True:\n",
    "    total1 += li[i]\n",
    "    i+=1\n",
    "    if li[i] < 0:\n",
    "        break"
   ]
  },
  {
   "cell_type": "code",
   "execution_count": null,
   "metadata": {},
   "outputs": [],
   "source": [
    "print(total1)"
   ]
  },
  {
   "cell_type": "code",
   "execution_count": null,
   "metadata": {},
   "outputs": [],
   "source": [
    "#shorthand for initializing index with length\n",
    "li = [\"apple\", \"banana\", \"grapes\"] \n",
    "for i in range(len(li)):\n",
    "    for j in range(i+1):\n",
    "#if i=0, j=0+1=1;\n",
    "#if i=1, j=1+1=2;\n",
    "#if i=2, j=2+1=3;\n",
    "        print(li[i])"
   ]
  },
  {
   "cell_type": "code",
   "execution_count": 1,
   "metadata": {},
   "outputs": [
    {
     "name": "stdout",
     "output_type": "stream",
     "text": [
      "-17\n"
     ]
    }
   ],
   "source": [
    "#exercise: print sum of negative integers in a list\n",
    "li = [4,2,-2,-3,-5,-7]\n",
    "total = 0\n",
    "j = len(li) - 1\n",
    "while li[j] < 0:\n",
    "    total += li[j]\n",
    "    j -= 1\n",
    "print(total)"
   ]
  }
 ],
 "metadata": {
  "kernelspec": {
   "display_name": "Python 3",
   "language": "python",
   "name": "python3"
  },
  "language_info": {
   "codemirror_mode": {
    "name": "ipython",
    "version": 3
   },
   "file_extension": ".py",
   "mimetype": "text/x-python",
   "name": "python",
   "nbconvert_exporter": "python",
   "pygments_lexer": "ipython3",
   "version": "3.8.3"
  }
 },
 "nbformat": 4,
 "nbformat_minor": 4
}
