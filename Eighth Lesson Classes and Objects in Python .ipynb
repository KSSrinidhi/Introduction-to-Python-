{
 "cells": [
  {
   "cell_type": "code",
   "execution_count": 1,
   "metadata": {},
   "outputs": [],
   "source": [
    "#Objects are combination of attributes and functions, attribute = property / variable & function = method\n",
    "#Class is blueprint of Objects / define the sequence of working\n",
    "class Robot():\n",
    "    def __init__(self, name, age, color):\n",
    "        self.name = name\n",
    "        self.age = age\n",
    "        self.color = color\n",
    "#\"_init__\" is used to initialize constructor in python\n",
    "    def introduce_self(self):\n",
    "        print(\"My name is \" + self.name)\n",
    "        print(self.age)\n",
    "        print(\"I am \" + self.color + \" in color\")\n",
    "        print(\"\")"
   ]
  },
  {
   "cell_type": "code",
   "execution_count": 2,
   "metadata": {},
   "outputs": [],
   "source": [
    "#r1 = Robot()\n",
    "#r1.name = \"Tom\"\n",
    "#r1.age = 12\n",
    "#r1.color = \"Pink\"\n",
    "\n",
    "#r2 = Robot()\n",
    "#r2.name = \"Jerry\"\n",
    "#r2.age = 10\n",
    "#r2.color = \"Blue\"\n",
    "#Instead of individually defining each attribute, \"constructor\" can be defined\n",
    "r1 = Robot(\"Tom\", 12, \"Pink\")\n",
    "r2 = Robot(\"Jerry\", 10, \"Blue\")"
   ]
  },
  {
   "cell_type": "code",
   "execution_count": 3,
   "metadata": {},
   "outputs": [
    {
     "name": "stdout",
     "output_type": "stream",
     "text": [
      "My name is Tom\n",
      "12\n",
      "I am Pink in color\n",
      "\n",
      "My name is Jerry\n",
      "10\n",
      "I am Blue in color\n",
      "\n"
     ]
    }
   ],
   "source": [
    "r1.introduce_self()\n",
    "r2.introduce_self()"
   ]
  },
  {
   "cell_type": "code",
   "execution_count": 4,
   "metadata": {},
   "outputs": [],
   "source": [
    "#Activity: Person and Robot\n",
    "class Person():\n",
    "    def __init__(self, name, personality, is_sitting, robotowned):\n",
    "        self.name = name\n",
    "        self.personality = personality\n",
    "        self.is_sitting = is_sitting\n",
    "        self.robotowned = robotowned\n",
    "        \n",
    "    def sit_down(self):\n",
    "        self.is_sitting = True\n",
    "    \n",
    "    def stand_up(self):\n",
    "        self.is_sitting = False"
   ]
  },
  {
   "cell_type": "code",
   "execution_count": 5,
   "metadata": {},
   "outputs": [],
   "source": [
    "p1 = Person(\"Alice\", \"funny\", True, r2)\n",
    "p2 = Person(\"Becky\", \"Tempermental\", False, r1)"
   ]
  },
  {
   "cell_type": "code",
   "execution_count": 6,
   "metadata": {},
   "outputs": [
    {
     "name": "stdout",
     "output_type": "stream",
     "text": [
      "My name is Jerry\n",
      "10\n",
      "I am Blue in color\n",
      "\n",
      "My name is Tom\n",
      "12\n",
      "I am Pink in color\n",
      "\n"
     ]
    }
   ],
   "source": [
    "p1.robotowned.introduce_self()\n",
    "p2.robotowned.introduce_self()"
   ]
  }
 ],
 "metadata": {
  "kernelspec": {
   "display_name": "Python 3",
   "language": "python",
   "name": "python3"
  },
  "language_info": {
   "codemirror_mode": {
    "name": "ipython",
    "version": 3
   },
   "file_extension": ".py",
   "mimetype": "text/x-python",
   "name": "python",
   "nbconvert_exporter": "python",
   "pygments_lexer": "ipython3",
   "version": "3.8.3"
  }
 },
 "nbformat": 4,
 "nbformat_minor": 4
}
