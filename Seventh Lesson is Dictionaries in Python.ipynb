{
 "cells": [
  {
   "cell_type": "code",
   "execution_count": 2,
   "metadata": {},
   "outputs": [],
   "source": [
    "#\"dictionaries\" are Key-Value pairs\n",
    "d = {} #initializing empty dictionary\n",
    "#Another way: \"d = dict()\""
   ]
  },
  {
   "cell_type": "code",
   "execution_count": 11,
   "metadata": {},
   "outputs": [],
   "source": [
    "d[\"Rama\"] = 22\n",
    "d[\"Sita\"] = 20"
   ]
  },
  {
   "cell_type": "code",
   "execution_count": 4,
   "metadata": {},
   "outputs": [
    {
     "name": "stdout",
     "output_type": "stream",
     "text": [
      "22\n",
      "20\n"
     ]
    }
   ],
   "source": [
    "print(d[\"Rama\"])\n",
    "print(d[\"Sita\"])"
   ]
  },
  {
   "cell_type": "code",
   "execution_count": 16,
   "metadata": {},
   "outputs": [
    {
     "name": "stdout",
     "output_type": "stream",
     "text": [
      "1999\n"
     ]
    }
   ],
   "source": [
    "#dictionaries can be in strings and numbers\n",
    "d[10] = 1999\n",
    "print(d[10])"
   ]
  },
  {
   "cell_type": "code",
   "execution_count": 17,
   "metadata": {},
   "outputs": [
    {
     "name": "stdout",
     "output_type": "stream",
     "text": [
      "Key: Rama\n",
      "Value: 22\n",
      "\n",
      "Key: Sita\n",
      "Value: 20\n",
      "\n",
      "Key: 10\n",
      "Value: 1999\n",
      "\n"
     ]
    }
   ],
   "source": [
    "#dictionaries with iteration of Key & Value\n",
    "for Key, Value in d.items():\n",
    "    print(\"Key:\",Key)\n",
    "    print(\"Value:\",Value)\n",
    "    print(\"\")"
   ]
  }
 ],
 "metadata": {
  "kernelspec": {
   "display_name": "Python 3",
   "language": "python",
   "name": "python3"
  }
 },
 "nbformat": 4,
 "nbformat_minor": 4
}
